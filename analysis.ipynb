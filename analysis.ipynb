{
 "cells": [
  {
   "cell_type": "markdown",
   "metadata": {},
   "source": [
    "## <center>Scrits to generate all figures in r2d4 manuscript</center>\n"
   ]
  },
  {
   "cell_type": "code",
   "execution_count": 2,
   "metadata": {
    "collapsed": false
   },
   "outputs": [
    {
     "name": "stderr",
     "output_type": "stream",
     "text": [
      "/Users/plb/anaconda/envs/pydev/lib/python2.7/site-packages/statsmodels/compat/pandas.py:56: FutureWarning: The pandas.core.datetools module is deprecated and will be removed in a future version. Please use the pandas.tseries module instead.\n",
      "  from pandas.core import datetools\n"
     ]
    }
   ],
   "source": [
    "%matplotlib inline\n",
    "import scipy\n",
    "import pdb\n",
    "\n",
    "from pylab import *\n",
    "import scipy.cluster.hierarchy as sch\n",
    "import numpy as np\n",
    "\n",
    "import fnmatch\n",
    "import os\n",
    "import pandas as pd\n",
    "import matplotlib.pyplot as plt\n",
    "import seaborn as sns\n",
    "import glob\n",
    "from scipy.spatial.distance import pdist\n",
    "from scipy.cluster.hierarchy import fcluster\n",
    "from matplotlib.colors import rgb2hex, colorConverter\n",
    "from scipy.spatial import distance\n",
    "from scipy import signal, stats\n",
    "import pdb\n",
    "import matplotlib.ticker as ticker\n",
    "import statsmodels.api as sm\n",
    "from matplotlib import gridspec\n",
    "\n",
    "#plotting specificis\n",
    "%matplotlib inline\n",
    "sns.set_context(context='paper', font_scale=2.0)\n",
    "# this is the setting you want\n",
    "sns.set_style(\"white\", {'axes.linewidth':0.0000001, 'axes.edgecolor':'white'})"
   ]
  },
  {
   "cell_type": "markdown",
   "metadata": {},
   "source": [
    "## Fig.B Representative reaction time plot showing improvement by block  "
   ]
  },
  {
   "cell_type": "code",
   "execution_count": null,
   "metadata": {
    "collapsed": true
   },
   "outputs": [],
   "source": [
    "\n",
    "data_out = pd.read_csv('/home/beukema2/Dropbox/r2d4/behavior/0491_allResp_r2d4_behavior_2015_Aug_14_1028_Day_12.csv')\n",
    "lag_names = ['lag' + str(i) for i in  range(1,32)]\n",
    "data_lags = pd.DataFrame(columns = lag_names)\n",
    "sum_names = ['block', 'accuracy', 'rt_all', 'rt_cor', 'sdAcc', 'sdRT']\n",
    "data_summary = pd.DataFrame(columns = (sum_names))\n",
    "skip_index = 32\n",
    "max_lags = 31\n",
    "for i in np.unique(data_out[['block']]):\n",
    "    #make a plot of the response times vs trial and plot by type save with subject's id.\n",
    "    data_out['trial'] = np.array(range(1,len(data_out)+1))\n",
    "    if i ==6:\n",
    "        ax = sns.lmplot('trial', 'rt', hue = 'type', data=data_out, fit_reg=False)\n",
    "        plt.grid(linestyle='dotted')\n",
    "        plt.ylabel('Reaction Time (seconds)')\n",
    "        plt.xlabel('Trial')\n",
    "      \n",
    "\n",
    "plt.savefig('/home/beukema2/Dropbox/r2d4/figures/Figure2/representative_rts.svg')"
   ]
  },
  {
   "cell_type": "markdown",
   "metadata": {},
   "source": [
    "## Generate summary dataFrames for the reaction time plots in Figure 1 panel C and D"
   ]
  },
  {
   "cell_type": "code",
   "execution_count": null,
   "metadata": {
    "collapsed": true
   },
   "outputs": [],
   "source": [
    "#Create dataframes for z scored reactionTimes\n",
    "def initialize_dfs():\n",
    "    index = range(0,25)\n",
    "    df_ = pd.DataFrame(index=index)\n",
    "    df_.index.name = 'Day'\n",
    "    df_ = df_.fillna(np.nan) # with 0s rather than NaNs\n",
    "\n",
    "    dfrts = pd.DataFrame(index=index)\n",
    "    dfrts = dfrts.fillna(np.nan) # with 0s rather than NaNs\n",
    "    dfrts.index.name = 'Day'\n",
    "    return df_, dfrts, dfrts.index.name, index \n",
    "\n",
    "def analyzeRts(subjectDir, group):\n",
    " \n",
    "    #Find files matching\n",
    "    summary_files = []\n",
    "    for file in os.listdir(subjectDir):\n",
    "        if fnmatch.fnmatch(file, '*summary_*Day_*.csv'):\n",
    "            summary_files.append(os.path.realpath(os.path.join(subjectDir,file)))\n",
    "\n",
    "    k=1\n",
    "    for file in summary_files:\n",
    "        df = pd.read_csv(file)\n",
    "        base=os.path.basename(file)\n",
    "        daytemp = os.path.splitext(base)[0]\n",
    "        day = int(daytemp[48:])\n",
    "        subject = subjectDir[-4:]\n",
    "        dfrts.loc[day-1, subject] = (df['rt_all'][5] - df['rt_all'][6])/df['sdRT'][5]\n",
    "        dfrts.to_csv('/home/beukema2/Dropbox/r2d4/figures/Figure2/' + group +'_reactionZscores.csv')                                                                                                                                        \n",
    "   \n",
    "df_, dfrts, dfrts.index.name, index  = initialize_dfs()   \n",
    "for root, dirs, files in os.walk('/home/beukema2/Dropbox/r2d4/acfTest/sequence/'):\n",
    "    analyzeRts(root, 'sequence')\n",
    "df_, dfrts, dfrts.index.name, index  = initialize_dfs()   \n",
    "for root, dirs, files in os.walk('/home/beukema2/Dropbox/r2d4/acfTest/control/'):\n",
    "    analyzeRts(root, 'control')    \n",
    "\n",
    "#Create dataframes raw reaction times\n",
    "\n",
    "def initialize_dfs():\n",
    "    index = range(0,25)\n",
    "    df_ = pd.DataFrame(index=index)\n",
    "    df_.index.name = 'Day'\n",
    "    df_ = df_.fillna(np.nan) # with 0s rather than NaNs\n",
    "\n",
    "    dfrts_block6 = pd.DataFrame(index=index)\n",
    "    dfrts_block6 = dfrts_block6.fillna(np.nan) # with 0s rather than NaNs\n",
    "    dfrts_block6.index.name = 'Day'\n",
    "    dfrts_block7 = pd.DataFrame(index=index)\n",
    "    dfrts_block7 = dfrts_block7.fillna(np.nan) # with 0s rather than NaNs\n",
    "    dfrts_block7.index.name = 'Day'\n",
    "    return df_, dfrts_block6, dfrts_block6.index.name, dfrts_block7, dfrts_block7.index.name, index \n",
    "\n",
    "def analyzeRts(subjectDir, group):\n",
    "    #Find files matching\n",
    "    summary_files = []\n",
    "    for file in os.listdir(subjectDir):\n",
    "        if fnmatch.fnmatch(file, '*summary_*Day_*.csv'):\n",
    "            summary_files.append(os.path.realpath(os.path.join(subjectDir,file)))\n",
    "    k=1\n",
    "    for file in summary_files:\n",
    "        df = pd.read_csv(file)\n",
    "        base=os.path.basename(file)\n",
    "        daytemp = os.path.splitext(base)[0]\n",
    "        day = int(daytemp[48:])\n",
    "        subject = subjectDir[-4:]\n",
    "        dfrts_block6.loc[day-1, subject] =  df['rt_all'][6]\n",
    "        dfrts_block7.loc[day-1, subject] =  df['rt_all'][5]\n",
    "        \n",
    "        dfrts_block6.to_csv('/home/beukema2/Dropbox/r2d4/figures/Figure2/' + group +'_reactionRaw_block6.csv')    \n",
    "        dfrts_block7.to_csv('/home/beukema2/Dropbox/r2d4/figures/Figure2/' + group +'_reactionRaw_block7.csv')                                                                                                                                                                                                                \n",
    "   \n",
    "df_, dfrts_block6, dfrts_block6.index.name, dfrts_block7, dfrts_block7.index.name, index = initialize_dfs()   \n",
    "for root, dirs, files in os.walk('/home/beukema2/Dropbox/r2d4/acfTest/sequence/'):\n",
    "    analyzeRts(root, 'sequence')\n",
    "df_, dfrts_block6, dfrts_block6.index.name, dfrts_block7, dfrts_block7.index.name, index = initialize_dfs()   \n",
    "for root, dirs, files in os.walk('/home/beukema2/Dropbox/r2d4/acfTest/control/'):\n",
    "    analyzeRts(root, 'control')    "
   ]
  },
  {
   "cell_type": "markdown",
   "metadata": {},
   "source": [
    "## Fig 1.C: Raw Reaction Times"
   ]
  },
  {
   "cell_type": "code",
   "execution_count": null,
   "metadata": {
    "collapsed": true
   },
   "outputs": [],
   "source": [
    "df = pd.read_csv(os.path.expanduser('/home/beukema2/Dropbox/r2d4/figures/Figure2/sequence_reactionRaw_block6.csv'))\n",
    "df = pd.melt(df, id_vars=[\"Day\"], var_name=\"subject\")\n",
    "df['Group'] = np.array('sequence')\n",
    "df2 = pd.read_csv(os.path.expanduser('/home/beukema2/Dropbox/r2d4/figures/Figure2/sequence_reactionRaw_block7.csv'))\n",
    "df2 = pd.melt(df2, id_vars=[\"Day\"], var_name=\"subject\")\n",
    "df2['Group'] = np.array('random')\n",
    "bigdata=df.append(df2,ignore_index = True)\n",
    "ax = sns.tsplot(data=bigdata, time=\"Day\", unit=\"subject\",ci=68, value=\"value\", condition=\"Group\",estimator=np.nanmean, interpolate = True, color=['#ef8d23', '#1726d3'])\n",
    "ax.set(xlabel='Day', ylabel='RT')\n",
    "ax.set(ylim=(0, .6))\n",
    "ax.legend_.remove()\n",
    "plt.grid(linestyle='dotted')\n",
    "plt.savefig(os.path.expanduser('~/Dropbox/r2d4/figures/Figure2/sequence_raw.svg'))"
   ]
  },
  {
   "cell_type": "markdown",
   "metadata": {},
   "source": [
    "## Fig 1.C: Raw Reaction Times"
   ]
  },
  {
   "cell_type": "code",
   "execution_count": null,
   "metadata": {
    "collapsed": true
   },
   "outputs": [],
   "source": [
    "df = pd.read_csv(os.path.expanduser('/home/beukema2/Dropbox/r2d4/figures/Figure2/control_reactionRaw_block6.csv'))\n",
    "df = pd.melt(df, id_vars=[\"Day\"], var_name=\"subject\")\n",
    "df['Group'] = np.array('sequence')\n",
    "df2 = pd.read_csv(os.path.expanduser('/home/beukema2/Dropbox/r2d4/figures/Figure2/control_reactionRaw_block7.csv'))\n",
    "df2 = pd.melt(df2, id_vars=[\"Day\"], var_name=\"subject\")\n",
    "df2['Group'] = np.array('random')\n",
    "bigdata=df.append(df2,ignore_index = True)\n",
    "ax = sns.tsplot(data=bigdata, time=\"Day\", unit=\"subject\",ci=68, value=\"value\", condition=\"Group\",estimator=np.nanmean, interpolate = True, color=['#ef8d23', '#1726d3'])\n",
    "ax.set(xlabel='Day', ylabel='RT')\n",
    "ax.set(ylim=(0, .6))\n",
    "ax.legend_.remove()\n",
    "plt.grid(linestyle='dotted')\n",
    "plt.savefig(os.path.expanduser('~/Dropbox/r2d4/figures/Figure2/control_raw.svg'))"
   ]
  },
  {
   "cell_type": "markdown",
   "metadata": {},
   "source": [
    "## Fig 1.D: Reaction Time Improvement (z scores)\n"
   ]
  },
  {
   "cell_type": "code",
   "execution_count": null,
   "metadata": {
    "collapsed": true
   },
   "outputs": [],
   "source": [
    "df = pd.read_csv(os.path.expanduser('/home/beukema2/Dropbox/r2d4/figures/Figure2/sequence_reactionZscores.csv'))\n",
    "df = pd.melt(df, id_vars=[\"Day\"], var_name=\"subject\")\n",
    "df['Group'] = np.array('sequence')\n",
    "df2 = pd.read_csv(os.path.expanduser('/home/beukema2/Dropbox/r2d4/figures/Figure2/control_reactionZscores.csv'))\n",
    "df2 = pd.melt(df2, id_vars=[\"Day\"], var_name=\"subject\")\n",
    "df2['Group'] = np.array('random')\n",
    "bigdata=df.append(df2,ignore_index = True)\n",
    "ax = sns.tsplot(data=bigdata, time=\"Day\", unit=\"subject\",ci=68, value=\"value\", condition=\"Group\",estimator=np.nanmean, interpolate = True, color=['#ef8d23', '#1726d3'])\n",
    "ax.set(xlabel='Day', ylabel='RT Improvements (z-scores)')\n",
    "ax.set(ylim=(-1, 6))\n",
    "ax.legend_.remove()\n",
    "plt.grid(linestyle='dotted')\n",
    "plt.savefig(os.path.expanduser('~/Dropbox/r2d4/figures/Figure2/reactionTimes.svg'))"
   ]
  },
  {
   "cell_type": "markdown",
   "metadata": {},
   "source": [
    "## Fig 1.E: Accuracy "
   ]
  },
  {
   "cell_type": "code",
   "execution_count": null,
   "metadata": {
    "collapsed": true
   },
   "outputs": [],
   "source": [
    "def initialize_dfs():\n",
    "    index = range(0,25)\n",
    "    df_ = pd.DataFrame(index=index)\n",
    "    df_.index.name = 'Day'\n",
    "    df_ = df_.fillna(np.nan) # with 0s rather than NaNs\n",
    "\n",
    "    dfrts = pd.DataFrame(index=index)\n",
    "    dfrts = dfrts.fillna(np.nan) # with 0s rather than NaNs\n",
    "    dfrts.index.name = 'Day'\n",
    "    return dfrts, df_\n",
    "\n",
    "def getAccuracy(subjectDir, group):\n",
    "    #Find files matching\n",
    "    summary_files = []\n",
    "    for file in os.listdir(subjectDir):\n",
    "        if fnmatch.fnmatch(file, '*summary_*Day_*.csv'):\n",
    "            summary_files.append(os.path.realpath(os.path.join(subjectDir,file)))\n",
    "    \n",
    "    k=1\n",
    "    for file in summary_files:\n",
    "        df = pd.read_csv(file)\n",
    "        base=os.path.basename(file)\n",
    "        daytemp = os.path.splitext(base)[0]\n",
    "        day = int(daytemp[48:])\n",
    "        subject = subjectDir[-4:]\n",
    "        dfrts.loc[day-1, subject] = df['accuracy'][6]\n",
    "        dfrts.to_csv('/home/beukema2/Dropbox/r2d4/figures/Figure2/' + group +'accuracy.csv')  \n",
    "        \n",
    "dfrts, df_ = initialize_dfs()   \n",
    "for root, dirs, files in os.walk('/home/beukema2/Dropbox/r2d4/acfTest/control/'):\n",
    "    getAccuracy(root,  'control')\n",
    "dfrts, df_ = initialize_dfs()      \n",
    "for root, dirs, files in os.walk('/home/beukema2/Dropbox/r2d4/acfTest/sequence/'):\n",
    "    getAccuracy(root, 'sequence')\n",
    "    \n",
    "df = pd.read_csv('/home/beukema2/Dropbox/r2d4/figures/Figure2/sequenceaccuracy.csv')\n",
    "df = pd.melt(df, id_vars=[\"Day\"], var_name=\"subject\")\n",
    "df['Group'] = np.array('sequence')\n",
    "    \n",
    "df2 = pd.read_csv('/home/beukema2/Dropbox/r2d4/figures/Figure2/controlaccuracy.csv')\n",
    "df2 = pd.melt(df2, id_vars=[\"Day\"], var_name=\"subject\")\n",
    "df2['Group'] = np.array('random')\n",
    "\n",
    "bigdata=df.append(df2,ignore_index = True)\n",
    "ax = sns.tsplot(data=bigdata, time=\"Day\", unit=\"subject\", value=\"value\", condition=\"Group\",estimator=np.nanmean, interpolate = True, color=['#ef8d23', '#1726d3'], err_style='ci_band', ci=68)\n",
    "ax.set(xlabel='Day', ylabel='Accuracy (%)')\n",
    "\n",
    "ax.set(ylim=(0.6,1))\n",
    "ax.set(xlim=(-1,24))\n",
    "ax.legend_.remove()\n",
    "plt.grid(linestyle='dotted')\n",
    "plt.savefig(os.path.expanduser('~/Dropbox/r2d4/figures/Figure2/accuracy.svg'))"
   ]
  },
  {
   "cell_type": "markdown",
   "metadata": {},
   "source": [
    "## Figure 2 B True Distance Matrix </center>"
   ]
  },
  {
   "cell_type": "code",
   "execution_count": null,
   "metadata": {
    "collapsed": true
   },
   "outputs": [],
   "source": [
    "# sequence_stims = [4,5,3,4,2,5,3,2,4,5,4,5,2,4,5,3,2,3,5,3,4,2,3,2,3,5,4,2,4,2,3,5]\n",
    "fig = plt.figure(figsize=(8,8))\n",
    "trueDistances = np.array([[0, 0.0896, 0.0896, 0.3134],[0,0,0.3134,0.0896], [0,0,0,0.1045], [0,0,0,0]])\n",
    "i_lower = np.tril_indices(4, -1)\n",
    "trueDistances[i_lower] = trueDistances.T[i_lower]\n",
    "trueD = sns.heatmap(trueDistances, annot=True, fmt='.3f', linewidths=.5, cmap = plt.cm.Blues, vmin=0, vmax=.5, square=True)\n",
    "fig.savefig(os.path.expanduser('/home/beukema2/Dropbox/r2d4/figures/Figure3/trueDistanceMatrix.svg'))                                                                                                                                           \n"
   ]
  },
  {
   "cell_type": "markdown",
   "metadata": {},
   "source": [
    "## Remake the summaries because in the initial version of the script, missing entries were being replaced by mean, but now we do the OLS with NaN "
   ]
  },
  {
   "cell_type": "code",
   "execution_count": null,
   "metadata": {
    "collapsed": true
   },
   "outputs": [],
   "source": [
    "os.chdir(os.path.expanduser('~/Dropbox/r2d4/acfTest/'))\n",
    "\n",
    "def remakeSummaries(subjectDir):\n",
    "#build summary statistics file\n",
    "    lag_names = ['lag' + str(i) for i in  range(1,32)]\n",
    "    data_lags = pd.DataFrame(columns = lag_names)\n",
    "    sum_names = ['block', 'accuracy', 'rt_all', 'rt_cor', 'sdAcc', 'sdRT', 'chunkSize']\n",
    "    data_summary = pd.DataFrame(columns = (sum_names))\n",
    "\n",
    "    allRespFiles = []\n",
    "    for file in os.listdir(subjectDir):\n",
    "        for file in files:\n",
    "            if fnmatch.fnmatch(file, '0491*allResp*_Day_*.csv'):\n",
    "                allRespFiles.append(os.path.realpath(os.path.join(subjectDir,file)))\n",
    "\n",
    "    skip_index = 32\n",
    "    max_lags = 31\n",
    "\n",
    "\n",
    "    for file in allRespFiles:\n",
    "     \n",
    "        filename = file\n",
    "        data_out = pd.read_csv(file)\n",
    "        lag_names = ['lag' + str(i) for i in  range(1,32)]\n",
    "        data_lags = pd.DataFrame(columns = lag_names)\n",
    "        sum_names = ['block', 'accuracy', 'rt_all', 'rt_cor', 'sdAcc', 'sdRT', 'chunkSize']\n",
    "        data_summary = pd.DataFrame(columns = (sum_names))\n",
    "        \n",
    "        for i in np.unique(data_out[['block']]):\n",
    "            #make a plot of the response times vs trial and plot by type save with subject's id.\n",
    "            data_out['trial'] = np.array(range(1,len(data_out)+1))\n",
    "            sns.set_context(\"paper\")\n",
    "\n",
    "\n",
    "            block_df = data_out.loc[data_out['block']==i]\n",
    "            mean_acc = block_df[['response']].mean()\n",
    "            rt_all = block_df[['rt']].mean()\n",
    "            block_df_cor = block_df.loc[block_df['response']==1]\n",
    "            rt_cor = block_df_cor[['rt']].mean()\n",
    "            std_acc = block_df[['response']].std()\n",
    "            std_rt =  block_df_cor[['rt']].std()\n",
    "\n",
    "            #do not replace skip trials\n",
    "            good_trials = block_df.drop(block_df.index[:skip_index])\n",
    "            good_trials = good_trials[['rt']].replace(np.nan,np.nan)\n",
    "            y = np.array(good_trials)\n",
    "            x = np.linspace(1,y.size,y.size)\n",
    "            x = np.vstack([x,np.ones(len(x))]).T\n",
    "            result = sm.OLS(y, x, missing='drop').fit()\n",
    "            R = result.resid                \n",
    "            acfResults = statsmodels.tsa.stattools.acf(R,unbiased=True, nlags=31, fft=True, alpha=0.05, missing='drop')\n",
    "            lags = acfResults[0]\n",
    "            lags = lags[1:] #don't care about first lag always 1\n",
    "            data_lags.loc[i] = lags\n",
    "    \n",
    "            x = range(1,32)\n",
    "            y = acfResults[0]\n",
    "            y = y[1:].T\n",
    "            error = acfResults[1]\n",
    "            error = error[1:]\n",
    "            up_conf = error[:,1]\n",
    "            low_conf = error[:,0]\n",
    "\n",
    "            #Put into summary data frame. As Column,\n",
    "            chunkSize = np.argmax(low_conf<0)\n",
    "            data_summary.loc[i] = [i, mean_acc.response, rt_all.rt, rt_cor.rt, std_acc.response, std_rt.rt, chunkSize]\n",
    "\n",
    "\n",
    "        data_summary = pd.merge(data_summary, data_lags, left_on = 'block', right_on='lag1',left_index = True,right_index = True, how= 'outer')\n",
    "        outfilename = filename.replace(\"allResp\", \"summary\")\n",
    "        data_summary.to_csv(outfilename, index=False)\n",
    "        \n",
    "for root, dirs, files in os.walk(os.path.expanduser('~/Dropbox/r2d4/acfTest/sequence/')):\n",
    "    remakeSummaries(root)\n",
    "    \n",
    "for root, dirs, files in os.walk(os.path.expanduser('~/Dropbox/r2d4/acfTest/control/')):\n",
    "    remakeSummaries(root)    "
   ]
  },
  {
   "cell_type": "markdown",
   "metadata": {},
   "source": [
    "## Generate the lags for the autocorrelation figures in Panel A and B of Figure 3"
   ]
  },
  {
   "cell_type": "code",
   "execution_count": null,
   "metadata": {
    "collapsed": true
   },
   "outputs": [],
   "source": [
    "index = range(0,32)\n",
    "\n",
    "df_ = pd.DataFrame(index=index)\n",
    "df_.index.name = 'Day'\n",
    "df_ = df_.fillna(np.nan) # with 0s rather than NaNs\n",
    "\n",
    "def genLags(subjectDir, group):\n",
    "    if group == 'control':\n",
    "        columns = ['0269','0464', '0494', '0495','0549', '0550', '0604', '0605', '0627']\n",
    "    if group == 'sequence':\n",
    "        columns = ['0006','0012', '0192', '0273','0490', '0491', '0557', '0558', '0559']\n",
    "\n",
    "    #Find files matching\n",
    "    summary_files = []\n",
    "    for file in os.listdir(subjectDir):\n",
    "        if fnmatch.fnmatch(file, '*summary_*Day_*.csv'):\n",
    "            summary_files.append(os.path.realpath(os.path.join(subjectDir,file)))\n",
    "\n",
    "    k=1\n",
    "    lag_names = ['lag' + str(i) for i in  range(1,32)]\n",
    "    cols = ['lag' + str(i) for i in  range(1,32)]\n",
    "    cols.append('day')\n",
    "    cols.append('subject')\n",
    "    seqLags = pd.DataFrame(columns = cols)\n",
    "    \n",
    "    for file in summary_files:\n",
    "        print file\n",
    "        df = pd.read_csv(file)\n",
    "        base=os.path.basename(file)\n",
    "        daytemp = os.path.splitext(base)[0]\n",
    "        day = int(daytemp[48:])\n",
    "        subject = subjectDir[-4:]\n",
    "                                                                                                                                         \n",
    "        seqLags.loc[day] = df[lag_names].loc[6]\n",
    "        seqLags.loc[day, ['day']] = day\n",
    "        seqLags.loc[day, ['subject']] = subject  \n",
    "        seqLags.to_csv(subject+'lags.csv')\n",
    "        \n",
    "    \n",
    "\n",
    "for root, dirs, files in os.walk('/Users/plb/Dropbox/r2d4/acfTest/control/'):\n",
    "    genLags(root,  'control')\n",
    "    \n",
    "for root, dirs, files in os.walk('/Users/plb/Dropbox/r2d4/acfTest/sequence/'):\n",
    "    genLags(root, 'sequence')\n",
    "  \n"
   ]
  },
  {
   "cell_type": "markdown",
   "metadata": {},
   "source": [
    "## Figure 3: Panels A&B"
   ]
  },
  {
   "cell_type": "code",
   "execution_count": null,
   "metadata": {
    "collapsed": true
   },
   "outputs": [],
   "source": [
    "df1 = pd.read_csv(os.path.expanduser('~/Dropbox/r2d4/acfTest/0006lags.csv'))\n",
    "df2 = pd.read_csv(os.path.expanduser('~/Dropbox/r2d4/acfTest/0012lags.csv')\n",
    "df3 = pd.read_csv(os.path.expanduser('~/Dropbox/r2d4/acfTest/0192lags.csv'))\n",
    "df4 = pd.read_csv(os.path.expanduser('~/Dropbox/r2d4/acfTest/0273lags.csv'))\n",
    "df5 = pd.read_csv(os.path.expanduser('~/Dropbox/r2d4/acfTest/0490lags.csv'))\n",
    "df6 = pd.read_csv(os.path.expanduser('~/Dropbox/r2d4/acfTest/0491lags.csv'))\n",
    "df7 = pd.read_csv(os.path.expanduser('~/Dropbox/r2d4/acfTest/0557lags.csv'))\n",
    "df8 = pd.read_csv(os.path.expanduser('~/Dropbox/r2d4/acfTest/0558lags.csv'))\n",
    "df9 = pd.read_csv(os.path.expanduser('~/Dropbox/r2d4/acfTest/0559lags.csv'))\n",
    "df1 = df1.append(df2)\n",
    "df1 = df1.append(df3)\n",
    "df1 = df1.append(df4)\n",
    "df1 = df1.append(df5)\n",
    "df1 = df1.append(df6)\n",
    "df1 = df1.append(df7)\n",
    "df1 = df1.append(df8)\n",
    "df1 = df1.append(df9)\n",
    "lag_names = ['lag' + str(i) for i in  range(1,32)]\n",
    "df = pd.melt(df1, id_vars=[\"day\", 'subject'], value_vars = lag_names)\n",
    "df['Group'] = np.array('sequence')\n",
    "df['variable'] = df['variable'].map(lambda x: x.lstrip('lag').rstrip('aAbBcC'))\n",
    "df = df[(df.day == 1) | (df.day == 12) | (df.day == 24)]\n",
    "df.to_csv(os.path.expanduser('~/Dropbox/test.csv'))\n",
    "fig = plt.figure(figsize=(9,6))\n",
    "colordict = {1:'#BDA0CB', 12:'#8F5E99', 24:'#551A8B'}\n",
    "df = df.convert_objects(convert_numeric=True)\n",
    "ax = sns.tsplot(time='variable', value='value',unit='subject', \\\n",
    "                condition=\"day\",data=df,interpolate=True, \n",
    "                color =colordict, ci=68)\n",
    "ax.set(xlabel='Lag (Trial)', ylabel='Correlation')\n",
    "#     ax.set(title= 'Distance changes by group')\n",
    "ax.set(xlim=(0, 32))\n",
    "ax.set(ylim=(-.2, .4))\n",
    "ax.set_title('Autocorrelation Results Sequence Group')\n",
    "plt.grid(linestyle='dotted')\n",
    "fig.savefig('/home/beukema2/Dropbox/r2d4/finalfigures/Figure2/sequence_autocorr.svg')                                                                                                                                           \n",
    "\n",
    "df1 = pd.read_csv(os.path.expanduser('~/Dropbox/r2d4/acfTest/0269lags.csv'))\n",
    "df2 = pd.read_csv(os.path.expanduser('~/Dropbox/r2d4/acfTest/0464lags.csv'))\n",
    "df3 = pd.read_csv(os.path.expanduser('~/Dropbox/r2d4/acfTest/0494lags.csv'))\n",
    "df4 = pd.read_csv(os.path.expanduser('~/Dropbox/r2d4/acfTest/0495lags.csv'))\n",
    "df5 = pd.read_csv(os.path.expanduser('~/Dropbox/r2d4/acfTest/0549lags.csv'))\n",
    "df6 = pd.read_csv(os.path.expanduser('~/Dropbox/r2d4/acfTest/0550lags.csv'))\n",
    "df7 = pd.read_csv(os.path.expanduser('~/Dropbox/r2d4/acfTest/0604lags.csv'))\n",
    "df8 = pd.read_csv(os.path.expanduser('~/Dropbox/r2d4/acfTest/0605lags.csv'))\n",
    "df9 = pd.read_csv(os.path.expanduser('~/Dropbox/r2d4/acfTest/0627lags.csv'))\n",
    "df1 = df1.append(df2)\n",
    "df1 = df1.append(df3)\n",
    "df1 = df1.append(df4)\n",
    "df1 = df1.append(df5)\n",
    "df1 = df1.append(df6)\n",
    "df1 = df1.append(df7)\n",
    "df1 = df1.append(df8)\n",
    "df1 = df1.append(df9)\n",
    "lag_names = ['lag' + str(i) for i in  range(1,32)]\n",
    "df = pd.melt(df1, id_vars=[\"day\", 'subject'], value_vars = lag_names )\n",
    "df['Group'] = np.array('control')\n",
    "df['variable'] = df['variable'].map(lambda x: x.lstrip('lag').rstrip('aAbBcC'))\n",
    "df = df[(df.day == 1) | (df.day == 12) | (df.day == 24)]\n",
    "fig = plt.figure(figsize=(9,6))\n",
    "\n",
    "colordict = {1:'#9BC4E2', 12:'#50A6C2', 24:'#00688B'}\n",
    "df = df.convert_objects(convert_numeric=True)\n",
    "ax = sns.tsplot(time='variable', value='value',unit='subject', \\\n",
    "                condition=\"day\",data=df,interpolate=True, \n",
    "                color =colordict, ci=68)\n",
    "ax.set(xlabel='Lag (Trial)', ylabel='Correlation')\n",
    "ax.set(xlim=(0, 32))\n",
    "ax.set(ylim=(-.2,.4))\n",
    "ax.set_title('Autocorrelation Results Control Group')\n",
    "plt.grid(linestyle='dotted')\n",
    "fig.savefig(os.expanduser('~/Dropbox/r2d4/finalfigures/Figure3/control_autocorr.svg'))                                                                                                                                           \n"
   ]
  },
  {
   "cell_type": "markdown",
   "metadata": {
    "collapsed": true
   },
   "source": [
    "### Figure 2 E,F Plot the raw distances with sequential ordering "
   ]
  },
  {
   "cell_type": "code",
   "execution_count": null,
   "metadata": {
    "collapsed": true
   },
   "outputs": [],
   "source": [
    "#Create DataFrame for summary cluster statisitcs for each day\n",
    "#Subject Ids for reference. \n",
    "#Consider http://docs.scipy.org/doc/scipy-0.14.0/reference/generated/scipy.spatial.distance.pdist.html\n",
    "index = range(0,25)\n",
    "df_ = pd.DataFrame(index=index)\n",
    "df_.index.name = 'Day'\n",
    "df_ = df_.fillna(np.nan) # with 0s rather than NaNs\n",
    "dfMah = pd.DataFrame(index=index)\n",
    "dfMah = dfMah.fillna(np.nan) # with 0s rather than NaNs\n",
    "dfMah.index.name = 'Day'\n",
    "trueDistances = np.array([[0, 0.0896, 0.0896, 0.3134],[0,0,0.3134,0.0896], [0,0,0,0.1045], [0,0,0,0]])\n",
    "                                                                                                                                   \n",
    "def buildHierarchy(subjectDir):\n",
    "  \n",
    "    #Find files matching\n",
    "    summary_files = []\n",
    "    for file in os.listdir(subjectDir):\n",
    "        if fnmatch.fnmatch(file, 'Day_*.csv'):\n",
    "            summary_files.append(os.path.realpath(os.path.join(subjectDir,file)))\n",
    "    k=1\n",
    "    for file in summary_files:\n",
    "        base=os.path.basename(file)\n",
    "        daytemp = os.path.splitext(base)[0]\n",
    "        day = int(daytemp[4:])\n",
    "      \n",
    "        #only plot for first and last day\n",
    "        fig = plt.figure(figsize=(8,8))\n",
    "        D = np.genfromtxt(file, delimiter=',')\n",
    "        # Plot distance matrix.\n",
    "        axmatrix = fig.add_axes([0.3,0.1,0.6,0.6])\n",
    "        im = axmatrix.matshow(D, aspect='auto', origin='lower', cmap=plt.cm.Blues, vmin=.5,vmax=1.0)\n",
    "        axmatrix.set_xticks([])\n",
    "        axmatrix.set_yticks([])\n",
    "        axmatrix.set_xticks(range(32))\n",
    "        axmatrix.xaxis.set_label_position('bottom')\n",
    "        axmatrix.xaxis.tick_bottom()\n",
    "        axmatrix.xaxis.set_label('Sequence Position')\n",
    "        plt.xticks(rotation=-90, fontsize=8)\n",
    "        axcolor = fig.add_axes([0.91,0.1,0.02,0.6])\n",
    "        plt.colorbar(im, cax=axcolor)\n",
    "\n",
    "        axmatrix.xaxis.tick_bottom()\n",
    "        plt.xticks(rotation=90, fontsize=4)\n",
    "        subject = subjectDir[-4:]\n",
    "        fn = subjectDir + '/'+ os.path.splitext(base)[0] + '.svg'\n",
    "        if(day ==1 or day == 24):\n",
    "            fn = '/home/beukema2/Dropbox/r2d4/figures/Figure2/day_' + str(day) + '.svg'\n",
    "            fig.savefig(fn)\n",
    "for root, dirs, files in os.walk(os.path.expanduser('~/Dropbox/r2d4/Covariance_Analysisv4/sequence/average')):\n",
    "    buildHierarchy(root)"
   ]
  },
  {
   "cell_type": "markdown",
   "metadata": {},
   "source": [
    "## Figure 3 Panel G: Average distance matrix on day 24\n"
   ]
  },
  {
   "cell_type": "code",
   "execution_count": null,
   "metadata": {
    "collapsed": true
   },
   "outputs": [],
   "source": [
    "mean_distances = pd.read_csv('/home/beukema2/Dropbox/r2d4/figures/Figure2/mean_distances.csv', header=None)\n",
    "trueD = sns.heatmap(mean_distances, annot=True, fmt='.3f', linewidths=.5, cmap = plt.cm.Blues_r, vmin=0.75, vmax=.9, square=True)\n",
    "plt.savefig(os.path.expanduser('/home/beukema2/Dropbox/r2d4/figures/Figure3/group_RDM.svg'))    "
   ]
  },
  {
   "cell_type": "code",
   "execution_count": null,
   "metadata": {
    "collapsed": true
   },
   "outputs": [],
   "source": [
    "iu1 = np.triu_indices(4)\n",
    "mean_distances.columns = ['index', 'middle', 'ring', 'little']\n",
    "iu1 = np.triu_indices(4)\n",
    "these_vals = mean_distances.values\n",
    "these_vals[iu1] = np.nan\n",
    "these_vals"
   ]
  },
  {
   "cell_type": "markdown",
   "metadata": {},
   "source": [
    "## Figure 3H MSE Distance Plots"
   ]
  },
  {
   "cell_type": "code",
   "execution_count": null,
   "metadata": {
    "collapsed": true
   },
   "outputs": [],
   "source": [
    "df = pd.read_csv(os.path.expanduser('~/Dropbox/r2d4/figures/Figure2/MSE_Distance_sequence.csv'), header=None)\n",
    "df['Day']= df.index\n",
    "df = pd.melt(df,id_vars=[\"Day\"])\n",
    "df['Group'] = np.array('sequence') \n",
    "df2 = pd.read_csv(os.path.expanduser('~/Dropbox/r2d4/figures/Figure2/MSE_Distance_control.csv'), header=None)\n",
    "df2['Day']= df2.index\n",
    "df2 = pd.melt(df2,id_vars=[\"Day\"])\n",
    "df2['Group'] = np.array('random')\n",
    "\n",
    "bigdata=df.append(df2,ignore_index = True)\n",
    "plt.figure(figsize=[8,6])\n",
    "ax = sns.tsplot(data=bigdata, time=\"Day\", unit=\"variable\",ci=68, value=\"value\", condition=\"Group\",estimator=np.nanmean, interpolate = True, color=['#ef8d23', '#1726d3'])\n",
    "ax.set(xlabel='Day', ylabel='MSE')\n",
    "ax.set(title= 'Effector Distance')\n",
    "ax.set(ylim=(0.0, 0.8))\n",
    "plt.grid(linestyle='dotted')\n",
    "plt.savefig(os.path.expanduser('~/Dropbox/r2d4/figures/Figure3/effectDistance.svg'))\n"
   ]
  },
  {
   "cell_type": "markdown",
   "metadata": {},
   "source": [
    "\n",
    "## Figure 4"
   ]
  },
  {
   "cell_type": "code",
   "execution_count": null,
   "metadata": {
    "collapsed": true
   },
   "outputs": [],
   "source": [
    "from matplotlib import rc\n",
    "rc('text', usetex=True)\n",
    "\n",
    "\n",
    "fig = plt.figure(figsize=(14,8))\n",
    "ax1 = fig.add_subplot(361)\n",
    "betas = pd.read_csv(os.path.expanduser('~/Dropbox/r2d4/figures/beta_pre_post.csv'), header=None)\n",
    "betas.columns = ['beta','pre_post','group', 'roi', 'reactionTimes']\n",
    "di = {1:'T', 2:'C'}\n",
    "\n",
    "betas = betas.replace({'group':di})\n",
    "colors = {'T': \"#ef8d23\",'C': \"#1726d3\"}\n",
    "\n",
    "#Generate group accuracy plots\n",
    "current_plot_number = 361\n",
    "roi_num = 1\n",
    "ax1 = fig.add_subplot(current_plot_number)\n",
    "this_roi = betas[betas['roi']==roi_num]\n",
    "g = sns.barplot(y='beta', x='pre_post', hue='group',data=this_roi)\n",
    "sns.stripplot(y='beta', x='pre_post', hue='group',data=this_roi, split=True, alpha=.6);\n",
    "\n",
    "plt.grid(linestyle='dotted')\n",
    "ax = plt.gca()\n",
    "g.legend_.remove()\n",
    "plt.plot([-.2, .2], [.7, .7], 'k-', linewidth=2)\n",
    "plt.plot([.8, 1.2], [.7, .7], 'k-', linewidth=2)\n",
    "\n",
    "ax.set_ylim([-.8, .8])\n",
    "ax.set_xticklabels(['Pre','Post'])\n",
    "ax.set_xlabel('')\n",
    "plt.plot([.5, .5], [-.8, .8], 'k--', linewidth=2)\n",
    "ax.set_ylabel(r'$\\mathrm{\\beta_{Seq-Rand}}$')\n",
    "ax.set_xticks([])\n",
    "\n",
    "for i in arange(2,7):\n",
    "    current_plot_number += 1\n",
    "    roi_num +=1\n",
    "    plt.grid(linestyle='dotted')\n",
    "    ax1 = fig.add_subplot(current_plot_number)\n",
    "    this_roi = betas[betas['roi']==roi_num]\n",
    "    g = sns.barplot(y='beta', x='pre_post', hue='group',data=this_roi)\n",
    "    sns.stripplot(y='beta', x='pre_post', hue='group',data=this_roi, split=True, alpha=.6);\n",
    "\n",
    "    plt.grid(linestyle='dotted')\n",
    "    ax = plt.gca()\n",
    "    ax.legend_.remove()\n",
    "    plt.grid(linestyle='dotted')\n",
    "    ax.set_xticklabels(['Pre','Post'])\n",
    "    ax.set_xlabel('')\n",
    "    ax.set_ylim([-.8, .8])\n",
    "    ax.set_yticklabels([])\n",
    "    ax.set_ylabel('')\n",
    "    plt.plot([-.2, .2], [.7, .7], 'k-', linewidth=2)\n",
    "    plt.plot([.8, 1.2], [.7, .7], 'k-', linewidth=2)\n",
    "    plt.plot([.5, .5], [-.8, .8], 'k--', linewidth=2)\n",
    "    ax.set_xticks([])\n",
    "plt.tight_layout\n",
    "plt.savefig(os.path.expanduser('~/Dropbox/r2d4/figures/Figure5/beta.svg'), format='svg', dpi=1000)\n"
   ]
  },
  {
   "cell_type": "markdown",
   "metadata": {},
   "source": [
    "## Fig. 5: RDM plots"
   ]
  },
  {
   "cell_type": "code",
   "execution_count": null,
   "metadata": {
    "collapsed": true
   },
   "outputs": [],
   "source": [
    "\n",
    "ax1 = fig.add_subplot(361)\n",
    "rdm = pd.read_csv('/home/beukema2/Dropbox/r2d4/figures/Figure4/m1rdm.csv', header=None)\n",
    "trueD = sns.heatmap(rdm, annot=False, fmt='.1f', linewidths=.5, cmap = plt.cm.Blues_r,cbar=False, square=True, ax=ax1,xticklabels=['i','m','r','l'], vmin=0, vmax=0.25, yticklabels=['i','m','r','l'])\n",
    "\n",
    "fig, axes = plt.subplots(nrows=1, ncols=6, figsize=(20,40))\n",
    "# if you didn't set the figsize above you can do the following\n",
    "# fig.set_size_inches(12, 5)\n",
    "rois = ['m1', 's1', 'pmd', 'pmv', 'sma', 'spl']\n",
    "# flatten axes for easy iterating\n",
    "for roi, ax in zip(rois,(axes.flatten())):\n",
    "    roirdm = '/home/beukema2/Dropbox/r2d4/figures/Figure4/'+roi+'rdm.csv'\n",
    "    rdm = pd.read_csv(roirdm, header=None)\n",
    "    \n",
    "    sns.heatmap(rdm, annot=False, fmt='.1f', linewidths=.5, cmap = plt.cm.Blues,cbar=True, square=True, ax=ax,xticklabels=['i','m','r','l'], yticklabels=['i','m','r','l'],cbar_kws={'orientation': 'horizontal', 'ticks':[ rdm.values.min(), rdm.values.max()]})\n",
    "    \n",
    "fig.tight_layout()\n",
    "plt.savefig(os.path.expanduser('/home/beukema2/Dropbox/r2d4/figures/Figure4/rdms.svg'))   "
   ]
  },
  {
   "cell_type": "markdown",
   "metadata": {},
   "source": [
    "## Fig. 4: Decoding and Kernel Density estimates"
   ]
  },
  {
   "cell_type": "code",
   "execution_count": 102,
   "metadata": {
    "collapsed": false
   },
   "outputs": [
    {
     "data": {
      "image/png": "[encoded data removed]",
      "text/plain": [
       "<matplotlib.figure.Figure at 0x11ba26bd0>"
      ]
     },
     "metadata": {},
     "output_type": "display_data"
    }
   ],
   "source": [
    "#The kde_roi*.csv files are generated by FigureKDE in /data/r2d4/bin/analysisScripts/\n",
    "roi_medians = pd.DataFrame()\n",
    "sns.set_style(\"white\", {'axes.linewidth':0.0001, 'axes.edgecolor':'black'})\n",
    "sns.set_palette(\"hls\")\n",
    "df = pd.read_csv(os.path.expanduser('~/Dropbox/r2d4/figures/Figure4/kde_roi_r_lhBA4_cropped.csv'), header=None)\n",
    "roi_medians['M1']= np.nanmedian(df, axis=0)\n",
    "these_vals = df.values\n",
    "these_vals= these_vals[~np.isnan(these_vals)]\n",
    "sns.kdeplot(these_vals, shade=True, label=\"M1\")\n",
    "df = pd.read_csv(os.path.expanduser('~/Dropbox/r2d4/figures/Figure4/kde_roi_r_lhBA123_cropped.csv'), header=None)\n",
    "roi_medians['S1'] = np.nanmedian(df, axis=0)\n",
    "these_vals = df.values\n",
    "these_vals= these_vals[~np.isnan(these_vals)]\n",
    "sns.kdeplot(these_vals, shade=True, label=\"S1\")\n",
    "df = pd.read_csv(os.path.expanduser('~/Dropbox/r2d4/figures/Figure4/kde_roi_r_lhBA_pmd.csv'), header=None)\n",
    "roi_medians['PMd'] = np.nanmedian(df, axis=0)\n",
    "these_vals = df.values\n",
    "these_vals= these_vals[~np.isnan(these_vals)]\n",
    "sns.kdeplot(these_vals, shade=True,label=\"PMd\")\n",
    "df = pd.read_csv(os.path.expanduser('~/Dropbox/r2d4/figures/Figure4/kde_roi_r_lhBA_pmv.csv'), header=None)\n",
    "roi_medians['PMv'] = np.nanmedian(df, axis=0)\n",
    "these_vals = df.values\n",
    "these_vals= these_vals[~np.isnan(these_vals)]\n",
    "sns.kdeplot(these_vals, shade=True, label=\"PMv\")\n",
    "df = pd.read_csv(os.path.expanduser('~/Dropbox/r2d4/figures/Figure4/kde_roi_r_lhBA_sma.csv'), header=None)\n",
    "roi_medians['SMA'] = np.nanmedian(df, axis=0)\n",
    "these_vals = df.values\n",
    "these_vals= these_vals[~np.isnan(these_vals)]\n",
    "sns.kdeplot(these_vals, shade=True, label=\"SMA\")\n",
    "df = pd.read_csv(os.path.expanduser('~/Dropbox/r2d4/figures/Figure4/kde_roi_r_l_sup_parietal.csv'), header=None)\n",
    "roi_medians['SPL'] = np.nanmedian(df, axis=0)\n",
    "these_vals = df.values\n",
    "these_vals= these_vals[~np.isnan(these_vals)]\n",
    "sns.kdeplot(these_vals, shade=True,  label=\"SPL\")\n",
    "df = pd.read_csv(os.path.expanduser('~/Dropbox/r2d4/figures/Figure4/kde_roi_r_A1.csv'), header=None)\n",
    "roi_medians['A1']= np.nanmedian(df, axis=0)\n",
    "these_vals = df.values\n",
    "these_vals= these_vals[~np.isnan(these_vals)]\n",
    "sns.kdeplot(these_vals, color='gray', shade=True, label=\"A1\")\n",
    "plt.grid(linestyle='dotted')\n",
    "\n",
    "plt.legend()\n",
    "plt.xlabel('H')\n",
    "plt.ylabel('Density')\n",
    "plt.xlim(-5,15)\n",
    "plt.ylim(0,.4)\n",
    "plt.savefig(os.path.expanduser('~/Dropbox/r2d4/figures/Figure4/kde_without_errorbars.svg'))\n"
   ]
  },
  {
   "cell_type": "code",
   "execution_count": 41,
   "metadata": {
    "collapsed": false
   },
   "outputs": [
    {
     "ename": "NameError",
     "evalue": "name 'roi_medians' is not defined",
     "output_type": "error",
     "traceback": [
      "\u001b[0;31m---------------------------------------------------------------------------\u001b[0m",
      "\u001b[0;31mNameError\u001b[0m                                 Traceback (most recent call last)",
      "\u001b[0;32m<ipython-input-41-19288172da99>\u001b[0m in \u001b[0;36m<module>\u001b[0;34m()\u001b[0m\n\u001b[1;32m      1\u001b[0m \u001b[0msns\u001b[0m\u001b[0;34m.\u001b[0m\u001b[0mset_palette\u001b[0m\u001b[0;34m(\u001b[0m\u001b[0;34m\"hls\"\u001b[0m\u001b[0;34m)\u001b[0m\u001b[0;34m\u001b[0m\u001b[0m\n\u001b[0;32m----> 2\u001b[0;31m \u001b[0max\u001b[0m \u001b[0;34m=\u001b[0m \u001b[0msns\u001b[0m\u001b[0;34m.\u001b[0m\u001b[0mviolinplot\u001b[0m\u001b[0;34m(\u001b[0m\u001b[0mroi_medians\u001b[0m\u001b[0;34m,\u001b[0m \u001b[0minner\u001b[0m\u001b[0;34m=\u001b[0m\u001b[0;34m\"points\"\u001b[0m\u001b[0;34m)\u001b[0m\u001b[0;34m\u001b[0m\u001b[0m\n\u001b[0m\u001b[1;32m      3\u001b[0m \u001b[0mplt\u001b[0m\u001b[0;34m.\u001b[0m\u001b[0mgrid\u001b[0m\u001b[0;34m(\u001b[0m\u001b[0mlinestyle\u001b[0m\u001b[0;34m=\u001b[0m\u001b[0;34m'dotted'\u001b[0m\u001b[0;34m)\u001b[0m\u001b[0;34m\u001b[0m\u001b[0m\n\u001b[1;32m      4\u001b[0m \u001b[0mplt\u001b[0m\u001b[0;34m.\u001b[0m\u001b[0mylabel\u001b[0m\u001b[0;34m(\u001b[0m\u001b[0;34m'Median'\u001b[0m\u001b[0;34m)\u001b[0m\u001b[0;34m\u001b[0m\u001b[0m\n\u001b[1;32m      5\u001b[0m \u001b[0;31m#plt.savefig(os.path.expanduser('~/Dropbox/r2d4/figures/Figure4/kde_medians.svg')\u001b[0m\u001b[0;34m\u001b[0m\u001b[0;34m\u001b[0m\u001b[0m\n",
      "\u001b[0;31mNameError\u001b[0m: name 'roi_medians' is not defined"
     ]
    }
   ],
   "source": [
    "sns.set_palette(\"hls\")\n",
    "ax = sns.violinplot(roi_medians, inner=\"points\")\n",
    "plt.grid(linestyle='dotted')\n",
    "plt.ylabel('Median')\n",
    "#plt.savefig(os.path.expanduser('~/Dropbox/r2d4/figures/Figure4/kde_medians.svg')\n",
    "\n",
    "ax.annotate('*', xy=(2, 1), xytext=(-.06, 14.6))\n",
    "ax.annotate('*', xy=(2, 1), xytext=(.94, 12.5))\n",
    "ax.annotate('*', xy=(2, 1), xytext=(1.94, 4))\n",
    "ax.annotate('*', xy=(2, 1), xytext=(2.94, 4.3))\n",
    "ax.annotate('*', xy=(2, 1), xytext=(3.94, 2.5))\n",
    "ax.annotate('*', xy=(2, 1), xytext=(4.94, 4.5))\n",
    "ax.annotate('ns', xy=(2, 1), xytext=(5.9, 3.4))\n",
    "scipy.stats.ttest_1samp(roi_medians, 0)"
   ]
  },
  {
   "cell_type": "code",
   "execution_count": 115,
   "metadata": {
    "collapsed": false,
    "scrolled": true
   },
   "outputs": [
    {
     "data": {
      "text/plain": [
       "(2.2290736111111116,\n",
       " array([ 0.91672613,  1.13932356,  1.80406572,  1.93894556,  1.93234491,\n",
       "         1.83583749,  1.79284171]),\n",
       " array([ 3.54142109,  3.31882366,  2.6540815 ,  2.51920166,  2.52580231,\n",
       "         2.62230974,  2.66530552]))"
      ]
     },
     "execution_count": 115,
     "metadata": {},
     "output_type": "execute_result"
    }
   ],
   "source": [
    "def mean_confidence_interval(data, confidence=0.95):\n",
    "    a = 1.0*np.array(data)\n",
    "    n = len(a)\n",
    "    m, se = np.mean(a), scipy.stats.sem(a)\n",
    "    h = se * scipy.stats.t._ppf((1+confidence)/2., n-1)\n",
    "    return m, m-h, m+h\n",
    "\n",
    "mean_confidence_interval(roi_medians)"
   ]
  },
  {
   "cell_type": "code",
   "execution_count": 116,
   "metadata": {
    "collapsed": false
   },
   "outputs": [
    {
     "data": {
      "text/plain": [
       "<matplotlib.axes._subplots.AxesSubplot at 0x11b5e8a10>"
      ]
     },
     "execution_count": 116,
     "metadata": {},
     "output_type": "execute_result"
    },
    {
     "data": {
      "image/png": "[encoded data removed]",
      "text/plain": [
       "<matplotlib.figure.Figure at 0x11f874790>"
      ]
     },
     "metadata": {},
     "output_type": "display_data"
    }
   ],
   "source": [
    "sns.violinplot(data=roi_medians, notch=True)"
   ]
  },
  {
   "cell_type": "markdown",
   "metadata": {},
   "source": [
    "## Figure 5"
   ]
  },
  {
   "cell_type": "code",
   "execution_count": 103,
   "metadata": {
    "collapsed": false
   },
   "outputs": [
    {
     "name": "stderr",
     "output_type": "stream",
     "text": [
      "/Users/plb/anaconda/envs/pydev/lib/python2.7/site-packages/seaborn/categorical.py:2567: UserWarning: The `split` parameter has been renamed to `dodge`.\n",
      "  warnings.warn(msg, UserWarning)\n"
     ]
    },
    {
     "data": {
      "image/png": "[encoded data removed]",
      "text/plain": [
       "<matplotlib.figure.Figure at 0x11ad49ed0>"
      ]
     },
     "metadata": {},
     "output_type": "display_data"
    }
   ],
   "source": [
    "fig = plt.figure(figsize=(14,8))\n",
    "\n",
    "ax1 = fig.add_subplot(361)\n",
    "distances = pd.read_csv(os.path.expanduser('~/Dropbox/r2d4/figures/meanDistanceChanges.csv'), header=None)\n",
    "distances.columns = ['distance','group','roi', 'pre_post']\n",
    "di = {1:'T', 2:'C'}\n",
    "\n",
    "distances = distances.replace({'group':di})\n",
    "colors = {'T': \"#ef8d23\",'C': \"#1726d3\"}\n",
    "\n",
    "#Generate group accuracy plots\n",
    "current_plot_number = 361\n",
    "roi_num = 1\n",
    "ax1 = fig.add_subplot(current_plot_number)\n",
    "this_roi = distances[distances['roi']==roi_num]\n",
    "g = sns.barplot(y='distance', x='pre_post', hue='group',data=this_roi)\n",
    "sns.stripplot(y='distance', x='pre_post', hue='group',data=this_roi, split=True, alpha=.6);\n",
    "plt.grid(linestyle='dotted')\n",
    "ax = plt.gca()\n",
    "g.legend_.remove()\n",
    "ax.set_ylim([-.05, .3])\n",
    "g.set_xticklabels(['Pre','Post'])\n",
    "\n",
    "plt.plot([-.2, .2], [.25, .25], 'k-', linewidth=2)\n",
    "plt.plot([.8, 1.2], [.25, .25], 'k-', linewidth=2)\n",
    "ax.set_xlabel('')\n",
    "plt.plot([.5, .5], [-.05, .3], 'k--', linewidth=2)\n",
    "ax.set_ylabel(r'$\\mathrm{H_{mean}}$')\n",
    "\n",
    "\n",
    "for i in arange(2,7):\n",
    "    current_plot_number += 1\n",
    "    roi_num +=1\n",
    "    plt.grid(linestyle='dotted')\n",
    "    ax1 = fig.add_subplot(current_plot_number)\n",
    "    this_roi = distances[distances['roi']==roi_num]\n",
    "    g = sns.barplot(y='distance', x='pre_post', hue='group',data=this_roi)\n",
    "    sns.stripplot(y='distance', x='pre_post', hue='group',data=this_roi, split=True, alpha=.6);\n",
    "    ax = plt.gca()\n",
    "    ax.legend_.remove()\n",
    "    plt.grid(linestyle='dotted')\n",
    "    ax.set_xlabel('')\n",
    "    ax.set_ylim([-.05, .3])\n",
    "    g.set_xticklabels(['Pre','Post'])\n",
    "\n",
    "    ax.set_yticklabels([])\n",
    "    ax.set_ylabel('')\n",
    "    plt.plot([-.2, .2], [.25, .25], 'k-', linewidth=2)\n",
    "    plt.plot([.8, 1.2], [.25, .25], 'k-', linewidth=2)\n",
    "    plt.plot([.5, .5], [-.05, .3], 'k--', linewidth=2)\n",
    "    \n",
    "    \n",
    "plt.tight_layout\n",
    "plt.savefig(os.path.expanduser('~/Dropbox/r2d4/figures/Figure5/all_h.svg'), format='svg', dpi=1000)\n"
   ]
  },
  {
   "cell_type": "markdown",
   "metadata": {},
   "source": [
    "## Figure 6"
   ]
  },
  {
   "cell_type": "code",
   "execution_count": 182,
   "metadata": {
    "collapsed": false
   },
   "outputs": [
    {
     "name": "stderr",
     "output_type": "stream",
     "text": [
      "/Users/plb/anaconda/envs/pydev/lib/python2.7/site-packages/seaborn/categorical.py:2567: UserWarning: The `split` parameter has been renamed to `dodge`.\n",
      "  warnings.warn(msg, UserWarning)\n"
     ]
    },
    {
     "data": {
      "image/png": "[encoded data removed]",
      "text/plain": [
       "<matplotlib.figure.Figure at 0x1254f5310>"
      ]
     },
     "metadata": {},
     "output_type": "display_data"
    },
    {
     "data": {
      "image/png": "[encoded data removed]",
      "text/plain": [
       "<matplotlib.figure.Figure at 0x1248c6210>"
      ]
     },
     "metadata": {},
     "output_type": "display_data"
    }
   ],
   "source": [
    "\n",
    "fig = plt.figure(figsize=(14,8))\n",
    "ax1 = fig.add_subplot(361)\n",
    "distances = pd.read_csv(os.path.expanduser('~/Dropbox/r2d4/figures/medianSplitDistancechanges.csv'), header=None)\n",
    "distances.columns = ['distance','group','roi', 'pre_post', 'bound_unbound']\n",
    "di = {1:'T', 2:'C'}\n",
    "distances = distances[distances.bound_unbound == 1]\n",
    "distances = distances.replace({'group':di})\n",
    "colors = {'T': \"#FFFFFF\",'C': \"#1726d3\"}\n",
    "\n",
    "#Generate group accuracy plots\n",
    "current_plot_number = 361\n",
    "roi_num = 1\n",
    "ax1 = fig.add_subplot(current_plot_number)\n",
    "this_roi = distances[distances['roi']==roi_num]\n",
    "g = sns.barplot(y='distance', x='pre_post', hue='group',data=this_roi)\n",
    "sns.stripplot(y='distance', x='pre_post', hue='group',data=this_roi, split=True, alpha=.6);\n",
    "plt.plot([-.2, .2], [.25, .25], 'k-', linewidth=2)\n",
    "plt.plot([.8, 1.2], [.25, .25], 'k-', linewidth=2)\n",
    "\n",
    "plt.grid(linestyle='dotted')\n",
    "ax = plt.gca()\n",
    "g.legend_.remove()\n",
    "ax.set_ylim([-.05, .3])\n",
    "ax.set_xticks([])\n",
    "ax.set_xticklabels(['Pre','Post'])\n",
    "ax.set_xlabel('')\n",
    "plt.plot([.5, .5], [-0.05, .3], 'k--', linewidth=2)\n",
    "ax.set_ylabel(r'$\\mathrm{H_{Freq}}$')\n",
    "\n",
    "for i in arange(2,7):\n",
    "    current_plot_number += 1\n",
    "    roi_num +=1\n",
    "    plt.grid(linestyle='dotted')\n",
    "    ax1 = fig.add_subplot(current_plot_number)\n",
    "    this_roi = distances[distances['roi']==roi_num]\n",
    "    g = sns.barplot(y='distance', x='pre_post', hue='group',data=this_roi)\n",
    "    sns.stripplot(y='distance', x='pre_post', hue='group',data=this_roi, split=True, alpha=.6);\n",
    "\n",
    "    plt.grid(linestyle='dotted')\n",
    "    ax = plt.gca()\n",
    "    ax.legend_.remove()\n",
    "    plt.grid(linestyle='dotted')\n",
    "    ax.set_ylabel('')\n",
    "    ax.set_xticklabels(['Pre','Post'])\n",
    "    plt.plot([-.2, .2], [.25, .25], 'k-', linewidth=2)\n",
    "    plt.plot([.8, 1.2], [.25, .25], 'k-', linewidth=2)\n",
    "\n",
    "    ax.set_xlabel('')\n",
    "    ax.set_xticks([])\n",
    "    ax.set_ylim([-.05, .3])\n",
    "    ax.set_yticklabels([])\n",
    "    plt.plot([.5, .5], [-.05, .3], 'k--', linewidth=2)\n",
    "\n",
    "plt.tight_layout\n",
    "\n",
    "plt.savefig(os.path.expanduser('~/Dropbox/r2d4/figures/Figure5/bound.svg'), format='svg', dpi=1000)\n",
    "\n",
    "\n",
    "fig = plt.figure(figsize=(14,8))\n",
    "\n",
    "ax1 = fig.add_subplot(361)\n",
    "distances = pd.read_csv(os.path.expanduser('~/Dropbox/r2d4/figures/medianSplitDistancechanges.csv'), header=None)\n",
    "distances.columns = ['distance','group','roi', 'pre_post', 'bound_unbound']\n",
    "di = {1:'T', 2:'C'}\n",
    "distances = distances[distances.bound_unbound == 2]\n",
    "distances = distances.replace({'group':di})\n",
    "colors = {'T': \"#ef8d23\",'C': \"#1726d3\"}\n",
    "\n",
    "#Generate group accuracy plots\n",
    "current_plot_number = 361\n",
    "roi_num = 1\n",
    "ax1 = fig.add_subplot(current_plot_number)\n",
    "this_roi = distances[distances['roi']==roi_num]\n",
    "\n",
    "g = sns.barplot(y='distance', x='pre_post', hue='group',data=this_roi)\n",
    "sns.stripplot(y='distance', x='pre_post', hue='group',data=this_roi, split=True, alpha=.6);\n",
    "plt.grid(linestyle='dotted')\n",
    "ax = plt.gca()\n",
    "g.legend_.remove() \n",
    "\n",
    "plt.plot([-.2, .2], [.25, .25], 'k-', linewidth=2)\n",
    "plt.plot([.8, 1.2], [.25, .25], 'k-', linewidth=2)\n",
    "\n",
    "ax.set_ylim([-.05, .3])\n",
    "ax.set_xticklabels(['Pre','Post'])\n",
    "ax.set_xlabel('')\n",
    "plt.plot([.5, .5], [-0.05, .3], 'k--', linewidth=2)\n",
    "ax.set_ylabel(r'$\\mathrm{H_{Inf}}$')\n",
    "\n",
    "for i in arange(2,7):\n",
    "    current_plot_number += 1\n",
    "    roi_num +=1\n",
    "    plt.grid(linestyle='dotted')\n",
    "    ax1 = fig.add_subplot(current_plot_number)\n",
    "    this_roi = distances[distances['roi']==roi_num]\n",
    "    g = sns.barplot(y='distance', x='pre_post', hue='group',data=this_roi)\n",
    "\n",
    "\n",
    "    sns.stripplot(y='distance', x='pre_post', hue='group',data=this_roi, split=True, alpha=.6);\n",
    "    plt.grid(linestyle='dotted')\n",
    "    ax = plt.gca()\n",
    "    ax.legend_.remove()\n",
    "    plt.grid(linestyle='dotted')\n",
    "    ax.set_ylabel('')\n",
    "    ax.set_xticklabels(['Pre','Post'])\n",
    "    ax.set_xlabel('')\n",
    "\n",
    "    plt.plot([-.2, .2], [.25, .25], 'k-', linewidth=2)\n",
    "    plt.plot([.8, 1.2], [.25, .25], 'k-', linewidth=2)\n",
    "\n",
    "    ax.set_ylim([-.05, .3])\n",
    "    ax.set_yticklabels([])\n",
    "    plt.plot([.5, .5], [-0.05, .3], 'k--', linewidth=2)\n",
    "\n",
    "plt.tight_layout\n",
    "plt.savefig(os.path.expanduser('~/Dropbox/r2d4/figures/Figure5/unbound.svg'), format='svg', dpi=1000)\n"
   ]
  },
  {
   "cell_type": "markdown",
   "metadata": {},
   "source": [
    "## Generate IPI KDEs"
   ]
  },
  {
   "cell_type": "code",
   "execution_count": 3,
   "metadata": {
    "collapsed": true
   },
   "outputs": [],
   "source": [
    "def getfirstIPIs(day, interval):\n",
    "    random_trials = pd.DataFrame()\n",
    "    sequence_trials = pd.DataFrame()\n",
    "    random_corr_by_bin = pd.DataFrame()\n",
    "    sequence_corr_by_bin = pd.DataFrame()\n",
    "    allRespFiles = []\n",
    "    incorrect = 0\n",
    "\n",
    "    for root, dirs, files in os.walk(os.path.expanduser('~/Dropbox/r2d4/acfTest/sequence/')):\n",
    "        pattern = '*allResp*_Day_%s.csv' % day\n",
    "        for filename in fnmatch.filter(files, pattern ):\n",
    "            allRespFiles.append(os.path.realpath(os.path.join(root,filename)))\n",
    " \n",
    "    for file in allRespFiles:\n",
    "        lag_names = ['lag' + str(i) for i in  range(1,32)]\n",
    "        data_lags = pd.DataFrame(columns = lag_names)\n",
    "        sum_names = ['block', 'accuracy', 'rt_all', 'rt_cor', 'sdAcc', 'sdRT', 'chunkSize']\n",
    "        data_summary = pd.DataFrame(columns = (sum_names))\n",
    "        skip_index = 32\n",
    "        max_lags = 31\n",
    "        data_out = pd.read_csv(file)\n",
    "        for i in np.unique(data_out[['block']]):\n",
    "                #make a plot of the response times vs trial and plot by type save with subject's id.\n",
    "                data_out['trial'] = np.array(range(1,len(data_out)+1))\n",
    "                sns.set_context(\"paper\")\n",
    "                block_df = data_out.loc[data_out['block']==i]\n",
    "                mean_acc = block_df[['response']].mean()\n",
    "                rt_all = block_df[['rt']].mean()\n",
    "                block_df_cor = block_df.loc[block_df['response']==1]\n",
    "                rt_cor = block_df_cor[['rt']].mean()\n",
    "                std_acc = block_df[['response']].std()\n",
    "                std_rt =  block_df_cor[['rt']].std()\n",
    "\n",
    "                #do not replace skip trials\n",
    "                good_trials = block_df.drop(block_df.index[:skip_index])\n",
    "                good_trials = good_trials[['rt']].replace(np.nan,np.nan)\n",
    "                good_trials = good_trials*1000\n",
    "                gt = good_trials\n",
    "                gt['rt2'] = gt.rt\n",
    "                gt.rt2 = gt.rt2.shift(-1*interval)\n",
    "                shift_by = -1*interval\n",
    "                gt = gt[:shift_by]\n",
    "                gt['IPI'] = gt.rt2 + interval*250\n",
    "                gt['diff'] = np.sqrt((gt.rt2 - gt.rt)**2)\n",
    "\n",
    "                #Drop any pairs for which either response was incorrect before dropping nans to keep index_exp\n",
    "\n",
    "                #do not replace skip trials\n",
    "                y = np.array(good_trials['rt'])\n",
    "                x = np.linspace(1,y.size,y.size)\n",
    "                x = np.vstack([x,np.ones(len(x))]).T\n",
    "                result = sm.OLS(y, x, missing='drop').fit()\n",
    "                R = result.resid   \n",
    "                gt.reset_index(inplace=True)\n",
    "                all_resids = pd.DataFrame()\n",
    "                all_resids['rt'] = R\n",
    "                all_resids['rt2'] = R\n",
    "                \n",
    "                all_resids.rt2 = all_resids.rt2.shift(-1*interval)\n",
    "                shift_by = -1*interval\n",
    "                all_resids = all_resids[:shift_by]\n",
    "                all_resids['IPI'] =  gt['IPI']\n",
    "                all_resids['cor'] = block_df.response\n",
    "                all_resids_cor = all_resids[~all_resids.cor.isin([incorrect])]  #incorrect is 0\n",
    "\n",
    "                all_resids_cor = all_resids\n",
    "                del all_resids_cor['cor']\n",
    "                all_resids_cor.dropna(axis=0, how='any') #now drop NaN - if there are any left (possible?)\n",
    "                bins = np.linspace(0,1000,21)\n",
    "                #inds = np.digitize(gt['IPI'], bins) not used but commenting to remember digitize\n",
    "                corr_by_bin = all_resids_cor.groupby(pd.cut(all_resids_cor.IPI, bins))[['rt', 'rt2']].corr()\n",
    "                \n",
    "                del corr_by_bin['rt2']\n",
    "                corr_by_bin = corr_by_bin.iloc[1::2]\n",
    "                #Correlation cannot be identically 0 except in case where there is a single data point (which can happen if participant messes up - so drop those rows)\n",
    "                corr_by_bin['rt'].replace(to_replace=[1, -1], value=np.nan, inplace=True)\n",
    "                #calculate moving average plot\n",
    "                mov_avg=[]\n",
    "                for time_step in xrange(0,1000):\n",
    "                    df = all_resids_cor[(all_resids_cor['IPI'] > time_step) & (all_resids_cor['IPI'] <= (time_step+50))]\n",
    "                    mov_avg.append(df['rt'].corr(df['rt2']))\n",
    "                df1 = pd.DataFrame({'sub': mov_avg})\n",
    "                #gt.dropna(axis=0, how='any', inplace=True)\n",
    "                #x = gt['IPI'] \n",
    "                #y = gt['diff'] \n",
    "                #z = np.polyfit(x,y, 4) \n",
    "                #p = np.poly1d(z) \n",
    "                #xp = np.linspace(0,1000,1200) \n",
    "                #plt.plot(x, y, '.') \n",
    "                #plt.xlabel('IPI') \n",
    "                #plt.ylabel('RT2-RT1') \n",
    "                #plt.ylim(0,1000) \n",
    "                #plt.plot(xp, p(xp), '--')\n",
    "                #fit_ = pd.DataFrame({'sub': p(xp)})\n",
    "                if i == 6:\n",
    "                    random_trials = pd.concat([random_trials, good_trials.rt], ignore_index=True)\n",
    "                    random_corr_by_bin = pd.concat([random_corr_by_bin,df1], axis=1)\n",
    "                    #random_corr_by_bin = pd.concat([random_corr_by_bin,gt], axis=1)\n",
    "                \n",
    "                if i == 7:\n",
    "                    sequence_trials |= pd.concat([sequence_trials, good_trials.rt], ignore_index=True)\n",
    "                    sequence_corr_by_bin = pd.concat([sequence_corr_by_bin,df1], axis=1)\n",
    "                    #sequence_corr_by_bin = pd.concat([sequence_corr_by_bin,gt], axis=1)\n",
    "    # Floating point error caused me to add the two lines below. \n",
    "    random_corr_by_bin[(random_corr_by_bin>=.999999) | (random_corr_by_bin<=-.999999)] = np.nan \n",
    "    sequence_corr_by_bin[(sequence_corr_by_bin>=.999999) | (sequence_corr_by_bin<=-.999999)] = np.nan\n",
    "    random_trials = random_trials*1000 + 250\n",
    "    sequence_trials = sequence_trials*1000 + 250\n",
    "    return random_trials, sequence_trials, random_corr_by_bin, sequence_corr_by_bin"
   ]
  },
  {
   "cell_type": "code",
   "execution_count": 4,
   "metadata": {
    "collapsed": false
   },
   "outputs": [
    {
     "name": "stderr",
     "output_type": "stream",
     "text": [
      "/Users/plb/anaconda/envs/pydev/lib/python2.7/site-packages/ipykernel_launcher.py:43: SettingWithCopyWarning: \n",
      "A value is trying to be set on a copy of a slice from a DataFrame.\n",
      "Try using .loc[row_indexer,col_indexer] = value instead\n",
      "\n",
      "See the caveats in the documentation: http://pandas.pydata.org/pandas-docs/stable/indexing.html#indexing-view-versus-copy\n",
      "/Users/plb/anaconda/envs/pydev/lib/python2.7/site-packages/ipykernel_launcher.py:44: SettingWithCopyWarning: \n",
      "A value is trying to be set on a copy of a slice from a DataFrame.\n",
      "Try using .loc[row_indexer,col_indexer] = value instead\n",
      "\n",
      "See the caveats in the documentation: http://pandas.pydata.org/pandas-docs/stable/indexing.html#indexing-view-versus-copy\n",
      "/Users/plb/anaconda/envs/pydev/lib/python2.7/site-packages/numpy/lib/function_base.py:3154: RuntimeWarning: Degrees of freedom <= 0 for slice\n",
      "  c = cov(x, y, rowvar)\n",
      "/Users/plb/anaconda/envs/pydev/lib/python2.7/site-packages/numpy/lib/function_base.py:3088: RuntimeWarning: divide by zero encountered in double_scalars\n",
      "  c *= 1. / np.float64(fact)\n"
     ]
    }
   ],
   "source": [
    "this_interval = 1 \n",
    "this_day = 24\n",
    "r_t, s_t,rand_corrs,seq_corrs = getfirstIPIs(day=this_day, interval=this_interval)\n",
    "rand_corrs.columns=['cont_S'+ str(x) for x in xrange(1,len(rand_corrs.columns)+1)]\n",
    "seq_corrs.columns=['seq_S'+ str(x) for x in xrange(1,len(rand_corrs.columns)+1)]"
   ]
  },
  {
   "cell_type": "code",
   "execution_count": 40,
   "metadata": {
    "collapsed": false
   },
   "outputs": [
    {
     "data": {
      "image/png": "[encoded data removed]",
      "text/plain": [
       "<matplotlib.figure.Figure at 0x11aa15390>"
      ]
     },
     "metadata": {},
     "output_type": "display_data"
    }
   ],
   "source": [
    "\n",
    "seq_corrs[\"time\"] = seq_corrs.index\n",
    "rand_corrs[\"time\"] = rand_corrs.index\n",
    "slopes = pd.DataFrame(columns=['slope', 'block'])\n",
    "\n",
    "for column, index in zip (seq_corrs, xrange(1,10)) :\n",
    "    mask = ~np.isnan(seq_corrs[column])\n",
    "    x = seq_corrs['time']\n",
    "    y = seq_corrs[column]\n",
    "    x_masked = x[mask]\n",
    "    y_masked = y[mask]\n",
    "    slope, intercept, r_value, p_value, std_err = stats.linregress(x_masked,y_masked)\n",
    "    slopes.loc[index] = [slope, 'sequence']\n",
    "\n",
    "    \n",
    "for column, index in zip (rand_corrs, xrange(1,10)) :\n",
    "    mask = ~np.isnan(rand_corrs[column])\n",
    "    x = rand_corrs['time']\n",
    "    y = rand_corrs[column]\n",
    "    x_masked = x[mask]\n",
    "    y_masked = y[mask]\n",
    "    slope, intercept, r_value, p_value, std_err = stats.linregress(x_masked,y_masked)\n",
    "    slopes.loc[index+9] = [slope, 'random']\n",
    "\n",
    "    \n",
    "fig = plt.figure(figsize=(7, 4)) \n",
    "gs = gridspec.GridSpec(1, 2, width_ratios=[2, 1]) \n",
    "sns.set_context(context='paper', font_scale=2.0)\n",
    "plt.subplot(gs[0])\n",
    "sns.set_context(context='paper', font_scale=2.0)\n",
    "sns.regplot(seq_corrs.time, rand_corrs.cont_S7)\n",
    "sns.regplot(seq_corrs.time, seq_corrs.seq_S7)\n",
    "plt.xlim([0,1000])\n",
    "plt.ylabel('Correlation')\n",
    "plt.xlabel('IPI')\n",
    "plt.grid(linestyle='dotted')\n",
    "\n",
    "plt.xlim(200,900)\n",
    "plt.subplot(gs[1])\n",
    "sns.set_context(context='paper', font_scale=2.0)\n",
    "sns.boxplot(x = 'block', y= 'slope', data=slopes)\n",
    "sns.stripplot(y='slope', x='block', data=slopes, split=True, alpha=.6);\n",
    "plt.plot([-0.5, 4], [0, 0],'k', linewidth=2, linestyle = '--', alpha=.5)\n",
    "plt.grid(linestyle='dotted')\n",
    "plt.tight_layout()\n",
    "plt.savefig('/Users/plb/Dropbox/r2d4/figures/final_figures/Figure3-supplemental.svg')"
   ]
  },
  {
   "cell_type": "markdown",
   "metadata": {},
   "source": [
    "## Build csv for Bayes Factor Analysis\n"
   ]
  },
  {
   "cell_type": "code",
   "execution_count": 30,
   "metadata": {
    "collapsed": false
   },
   "outputs": [],
   "source": [
    "table = pd.read_csv('/Users/plb/Dropbox/r2d4/figures/medianSplitDistancechanges.csv', header=None)\n",
    "table.columns = ['distance', 'group', 'region', 'prepost', 'bound']\n",
    "\n",
    "for roi in xrange(1,7):\n",
    "    outtable = pd.DataFrame()\n",
    "    outtable['Pre'] = table[(table['region'] == 6) & (table['prepost'] == 1) & (table['bound'] == 1)].distance.values\n",
    "    outtable['Post'] = table[(table['region'] == 6) & (table['prepost'] == 2) & (table['bound'] == 1)].distance.values\n",
    "    outtable['Group'] = table[(table['region'] == 6) & (table['prepost'] == 2) & (table['bound'] == 1)].group.values\n",
    "    outtable.to_csv(('/Users/plb/Desktop/distances/bound_distance_region_%s.csv'% roi))\n",
    "    outtable = pd.DataFrame()\n",
    "    outtable['Pre'] = table[(table['region'] == 6) & (table['prepost'] == 1) & (table['bound'] == 2)].distance.values\n",
    "    outtable['Post'] = table[(table['region'] == 6) & (table['prepost'] == 2) & (table['bound'] == 2)].distance.values\n",
    "    outtable['Group'] = table[(table['region'] == 6) & (table['prepost'] == 2) & (table['bound'] == 2)].group.values\n",
    "    outtable.to_csv(('/Users/plb/Desktop/distances/unbound_distance_region_%s.csv'% roi))\n",
    "    \n",
    "table = pd.read_csv('/Users/plb/Dropbox/r2d4/figures/meanDistanceChanges.csv', header=None)\n",
    "table.columns = ['distance', 'group', 'region', 'prepost']\n",
    "\n",
    "for roi in xrange(1,7):\n",
    "    outtable = pd.DataFrame()\n",
    "    outtable['Pre'] = table[(table['region'] == 6) & (table['prepost'] == 1)].distance.values\n",
    "    outtable['Post'] = table[(table['region'] == 6) & (table['prepost'] == 2)].distance.values\n",
    "    outtable['Group'] = table[(table['region'] == 6) & (table['prepost'] == 2)].group.values\n",
    "    outtable.to_csv(('/Users/plb/Desktop/distances/mean_distance_region_%s.csv'% roi))"
   ]
  },
  {
   "cell_type": "markdown",
   "metadata": {},
   "source": [
    "## To do: Does length of autocorrelations (i.e. n_>0 lags) predict final skill.\n",
    "## How is autocorrelation influenced by errors?"
   ]
  },
  {
   "cell_type": "code",
   "execution_count": null,
   "metadata": {
    "collapsed": true
   },
   "outputs": [],
   "source": []
  }
 ],
 "metadata": {
  "kernelspec": {
   "display_name": "Python 2",
   "language": "python",
   "name": "python2"
  },
  "language_info": {
   "codemirror_mode": {
    "name": "ipython",
    "version": 2
   },
   "file_extension": ".py",
   "mimetype": "text/x-python",
   "name": "python",
   "nbconvert_exporter": "python",
   "pygments_lexer": "ipython2",
   "version": "2.7.13"
  }
 },
 "nbformat": 4,
 "nbformat_minor": 1
}
